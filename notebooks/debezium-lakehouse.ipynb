{
 "cells": [
  {
   "cell_type": "markdown",
   "id": "5e01b865-33b4-4754-822f-9cb853c0ff2d",
   "metadata": {},
   "source": [
    "# Debezium Lakehouse Integration\n",
    "\n",
    "This notebook demonstrates how to query data captured by Debezium and stored in Apache Iceberg tables."
   ]
  },
  {
   "cell_type": "markdown",
   "id": "a8f4d36b-e6b9-4ad0-a517-d5f298e6f43c",
   "metadata": {},
   "source": [
    "## Query Customers Table\n",
    "\n",
    "The Spark session is already configured to use the REST Catalog, so we can directly query the tables created by the Iceberg Connect Sink."
   ]
  },
  {
   "cell_type": "code",
   "execution_count": null,
   "id": "f0fa5ed2-2022-4ff5-892a-92d201529aed",
   "metadata": {},
   "outputs": [],
   "source": [
    "spark.sql(\"SELECT * FROM my_database.customers_table LIMIT 10\").show()"
   ]
  },
  {
   "cell_type": "markdown",
   "id": "c8f4d36b-e6b9-4ad0-a517-d5f298e6f43c",
   "metadata": {},
   "source": [
    "We can use the Jupyter magic to make the query too:"
   ]
  },
  {
   "cell_type": "code",
   "execution_count": null,
   "id": "ede81519-afda-4c80-8421-b45751b210c2",
   "metadata": {},
   "outputs": [],
   "source": [
    "%%sql\n",
    "\n",
    "SELECT * FROM my_database.customers_table LIMIT 10"
   ]
  },
  {
   "cell_type": "markdown",
   "id": "d8f4d36b-e6b9-4ad0-a517-d5f298e6f43c",
   "metadata": {},
   "source": [
    "## Query Products Table\n",
    "\n",
    "Now let's query the products table:"
   ]
  },
  {
   "cell_type": "code",
   "execution_count": null,
   "id": "fde81519-afda-4c80-8421-b45751b210c2",
   "metadata": {},
   "outputs": [],
   "source": [
    "%%sql\n",
    "\n",
    "SELECT * FROM my_database.products_table LIMIT 10"
   ]
  },
  {
   "cell_type": "markdown",
   "id": "e8f4d36b-e6b9-4ad0-a517-d5f298e6f43c",
   "metadata": {},
   "source": [
    "## Query Orders Table\n",
    "\n",
    "Let's examine the orders table:"
   ]
  },
  {
   "cell_type": "code",
   "execution_count": null,
   "id": "gde81519-afda-4c80-8421-b45751b210c2",
   "metadata": {},
   "outputs": [],
   "source": [
    "%%sql\n",
    "\n",
    "SELECT * FROM my_database.orders_table LIMIT 10"
   ]
  },
  {
   "cell_type": "markdown",
   "id": "f8f4d36b-e6b9-4ad0-a517-d5f298e6f43c",
   "metadata": {},
   "source": [
    "## Query Order Items Table\n",
    "\n",
    "Finally, let's look at the order items table:"
   ]
  },
  {
   "cell_type": "code",
   "execution_count": null,
   "id": "hde81519-afda-4c80-8421-b45751b210c2",
   "metadata": {},
   "outputs": [],
   "source": [
    "%%sql\n",
    "\n",
    "SELECT * FROM my_database.order_items_table LIMIT 10"
   ]
  },
  {
   "cell_type": "markdown",
   "id": "g8f4d36b-e6b9-4ad0-a517-d5f298e6f43c",
   "metadata": {},
   "source": [
    "## Join Tables for Analysis\n",
    "\n",
    "Now let's perform a more complex query joining multiple tables:"
   ]
  },
  {
   "cell_type": "code",
   "execution_count": null,
   "id": "ide81519-afda-4c80-8421-b45751b210c2",
   "metadata": {},
   "outputs": [],
   "source": [
    "%%sql\n",
    "\n",
    "SELECT \n",
    "    c.id as customer_id, \n",
    "    c.first_name, \n",
    "    c.last_name, \n",
    "    o.id as order_id,\n",
    "    o.order_date,\n",
    "    p.name as product_name,\n",
    "    oi.quantity,\n",
    "    oi.unit_price,\n",
    "    (oi.quantity * oi.unit_price) as total_price\n",
    "FROM \n",
    "    my_database.customers_table c\n",
    "JOIN \n",
    "    my_database.orders_table o ON o.customer_id = c.id\n",
    "JOIN \n",
    "    my_database.order_items_table oi ON oi.order_id = o.id\n",
    "JOIN \n",
    "    my_database.products_table p ON p.id = oi.product_id\n",
    "LIMIT 10"
   ]
  },
  {
   "cell_type": "markdown",
   "id": "h8f4d36b-e6b9-4ad0-a517-d5f298e6f43c",
   "metadata": {},
   "source": [
    "## Analyze Customer Spending\n",
    "\n",
    "Let's calculate total spending by customer:"
   ]
  },
  {
   "cell_type": "code",
   "execution_count": null,
   "id": "jde81519-afda-4c80-8421-b45751b210c2",
   "metadata": {},
   "outputs": [],
   "source": [
    "%%sql\n",
    "\n",
    "SELECT \n",
    "    c.first_name || ' ' || c.last_name as customer_name,\n",
    "    COUNT(DISTINCT o.id) as order_count,\n",
    "    SUM(oi.quantity * oi.unit_price) as total_spent\n",
    "FROM \n",
    "    my_database.customers_table c\n",
    "JOIN \n",
    "    my_database.orders_table o ON o.customer_id = c.id\n",
    "JOIN \n",
    "    my_database.order_items_table oi ON oi.order_id = o.id\n",
    "GROUP BY \n",
    "    c.first_name, c.last_name\n",
    "ORDER BY \n",
    "    total_spent DESC\n",
    "LIMIT 10"
   ]
  },
  {
   "cell_type": "code",
   "execution_count": null,
   "id": "d8d47643-e1c2-41b8-ba24-e4b73587d353",
   "metadata": {},
   "outputs": [],
   "source": []
  },
  {
   "cell_type": "code",
   "execution_count": null,
   "id": "b1d45b92-7454-495e-9e1b-9e49f0af537d",
   "metadata": {},
   "outputs": [],
   "source": []
  },
  {
   "cell_type": "code",
   "execution_count": null,
   "id": "cd6b0e9b-f2e4-4e3f-aa5a-ae1cddd35aaa",
   "metadata": {},
   "outputs": [],
   "source": []
  },
  {
   "cell_type": "code",
   "execution_count": null,
   "id": "cb1fad3d-0ac0-4f60-b9a4-153f17b652d5",
   "metadata": {},
   "outputs": [],
   "source": []
  }
 ],
 "metadata": {
  "kernelspec": {
   "display_name": "Python 3 (ipykernel)",
   "language": "python",
   "name": "python3"
  },
  "language_info": {
   "codemirror_mode": {
    "name": "ipython",
    "version": 3
   },
   "file_extension": ".py",
   "mimetype": "text/x-python",
   "name": "python",
   "nbconvert_exporter": "python",
   "pygments_lexer": "ipython3",
   "version": "3.10.16"
  }
 },
 "nbformat": 4,
 "nbformat_minor": 5
}
