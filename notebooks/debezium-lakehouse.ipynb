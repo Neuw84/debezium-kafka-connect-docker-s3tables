{
 "cells": [
  {
   "cell_type": "markdown",
   "id": "5e01b865-33b4-4754-822f-9cb853c0ff2d",
   "metadata": {},
   "source": [
    "The Spark session is already configured to use the REST Catalog, then can just query the table created by the Iceberg Connect Sink."
   ]
  },
  {
   "cell_type": "code",
   "execution_count": null,
   "id": "f0fa5ed2-2022-4ff5-892a-92d201529aed",
   "metadata": {},
   "outputs": [],
   "source": [
    "spark.sql(\"SELECT * FROM my_database.customers_table\").show()\n"
   ]
  },
  {
   "cell_type": "markdown",
   "id": "a8f4d36b-e6b9-4ad0-a517-d5f298e6f43c",
   "metadata": {},
   "source": [
    "We can use the Jupyter magic to make the query too. "
   ]
  },
  {
   "cell_type": "code",
   "execution_count": null,
   "id": "ede81519-afda-4c80-8421-b45751b210c2",
   "metadata": {},
   "outputs": [],
   "source": [
    "%%sql\n",
    "\n",
    "SELECT * FROM my_database.customers_table"
   ]
  }
 ],
 "metadata": {
  "kernelspec": {
   "display_name": "Python 3 (ipykernel)",
   "language": "python",
   "name": "python3"
  },
  "language_info": {
   "codemirror_mode": {
    "name": "ipython",
    "version": 3
   },
   "file_extension": ".py",
   "mimetype": "text/x-python",
   "name": "python",
   "nbconvert_exporter": "python",
   "pygments_lexer": "ipython3",
   "version": "3.10.16"
  }
 },
 "nbformat": 4,
 "nbformat_minor": 5
}
